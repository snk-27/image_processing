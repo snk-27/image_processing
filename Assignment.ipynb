import cv2
import streamlit as st

# Load the pre-trained face detector
face_cascade = cv2.CascadeClassifier(cv2.data.haarcascades + 'haarcascade_frontalface_default.xml')

# Function to detect and count faces
def detect_faces(frame):
    # Convert the frame to grayscale
    gray_frame = cv2.cvtColor(frame, cv2.COLOR_BGR2GRAY)

    # Detect faces in the frame
    faces = face_cascade.detectMultiScale(gray_frame, scaleFactor=1.1, minNeighbors=5)

    # Draw rectangles around the detected faces and count them
    face_count = 0
    for (x, y, w, h) in faces:
        face_count += 1
        cv2.rectangle(frame, (x, y), (x+w, y+h), (0, 255, 0), 2)
        cv2.putText(frame, f"Face {face_count}", (x, y-10), cv2.FONT_HERSHEY_SIMPLEX, 0.5, (0, 255, 0), 2)

    return frame, face_count

# Initialize the webcam
webcam = cv2.VideoCapture(0)

# Streamlit app
st.title("Face Detection and Counting")

# Main loop to read frames from webcam
while True:
    # Capture frame-by-frame
    ret, frame = webcam.read()

    # Detect and count faces
    frame, face_count = detect_faces(frame)

    # Display the frame with rectangles around the faces and face count
    st.image(cv2.cvtColor(frame, cv2.COLOR_BGR2RGB), channels="BGR")
    st.write(f"Total Faces: {face_count}")

    # Exit loop if 'q' key is pressed
    if st.button("Quit"):
        break

# Release the webcam
webcam.release()
cv2.destroyAllWindows()
